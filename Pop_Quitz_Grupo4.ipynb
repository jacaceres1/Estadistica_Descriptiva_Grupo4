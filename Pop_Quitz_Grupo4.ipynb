{
 "cells": [
  {
   "cell_type": "code",
   "execution_count": 2,
   "id": "c54b61f4",
   "metadata": {},
   "outputs": [],
   "source": [
    "import pandas as pd\n",
    "import matplotlib.pyplot as plt\n",
    "import matplotlib.axes as ax\n",
    "import numpy as np\n",
    "import seaborn as sns\n",
    "import statistics as stas"
   ]
  },
  {
   "cell_type": "markdown",
   "id": "258d3338",
   "metadata": {},
   "source": [
    "<h1><center>Estadistica Descriptiva</center></h1>\n",
    "\n",
    "![](https://images.unsplash.com/flagged/photo-1553267252-d100936057c1?ixlib=rb-1.2.1&ixid=MnwxMjA3fDB8MHxwaG90by1wYWdlfHx8fGVufDB8fHx8&auto=format&fit=crop&w=470&q=100)"
   ]
  },
  {
   "cell_type": "markdown",
   "id": "ef37b552",
   "metadata": {},
   "source": [
    "<h1><center>Implementación del DATASET</center></h1>"
   ]
  },
  {
   "cell_type": "code",
   "execution_count": 13,
   "id": "14f7ebd5",
   "metadata": {},
   "outputs": [
    {
     "data": {
      "text/html": [
       "<div>\n",
       "<style scoped>\n",
       "    .dataframe tbody tr th:only-of-type {\n",
       "        vertical-align: middle;\n",
       "    }\n",
       "\n",
       "    .dataframe tbody tr th {\n",
       "        vertical-align: top;\n",
       "    }\n",
       "\n",
       "    .dataframe thead th {\n",
       "        text-align: right;\n",
       "    }\n",
       "</style>\n",
       "<table border=\"1\" class=\"dataframe\">\n",
       "  <thead>\n",
       "    <tr style=\"text-align: right;\">\n",
       "      <th></th>\n",
       "      <th>Unnamed: 0</th>\n",
       "      <th>Value</th>\n",
       "    </tr>\n",
       "  </thead>\n",
       "  <tbody>\n",
       "    <tr>\n",
       "      <th>174</th>\n",
       "      <td>Grenada</td>\n",
       "      <td>111454</td>\n",
       "    </tr>\n",
       "    <tr>\n",
       "      <th>169</th>\n",
       "      <td>Belize</td>\n",
       "      <td>383071</td>\n",
       "    </tr>\n",
       "    <tr>\n",
       "      <th>51</th>\n",
       "      <td>Cameroon</td>\n",
       "      <td>25216237</td>\n",
       "    </tr>\n",
       "    <tr>\n",
       "      <th>56</th>\n",
       "      <td>Sri Lanka</td>\n",
       "      <td>21670000</td>\n",
       "    </tr>\n",
       "    <tr>\n",
       "      <th>6</th>\n",
       "      <td>Nigeria</td>\n",
       "      <td>195874740</td>\n",
       "    </tr>\n",
       "    <tr>\n",
       "      <th>147</th>\n",
       "      <td>Kosovo</td>\n",
       "      <td>1845300</td>\n",
       "    </tr>\n",
       "    <tr>\n",
       "      <th>72</th>\n",
       "      <td>Zimbabwe</td>\n",
       "      <td>14439018</td>\n",
       "    </tr>\n",
       "    <tr>\n",
       "      <th>85</th>\n",
       "      <td>Dominican Republic</td>\n",
       "      <td>10627165</td>\n",
       "    </tr>\n",
       "    <tr>\n",
       "      <th>117</th>\n",
       "      <td>Costa Rica</td>\n",
       "      <td>4999441</td>\n",
       "    </tr>\n",
       "    <tr>\n",
       "      <th>7</th>\n",
       "      <td>Bangladesh</td>\n",
       "      <td>161356039</td>\n",
       "    </tr>\n",
       "  </tbody>\n",
       "</table>\n",
       "</div>"
      ],
      "text/plain": [
       "             Unnamed: 0      Value\n",
       "174             Grenada     111454\n",
       "169              Belize     383071\n",
       "51             Cameroon   25216237\n",
       "56            Sri Lanka   21670000\n",
       "6               Nigeria  195874740\n",
       "147              Kosovo    1845300\n",
       "72             Zimbabwe   14439018\n",
       "85   Dominican Republic   10627165\n",
       "117          Costa Rica    4999441\n",
       "7            Bangladesh  161356039"
      ]
     },
     "execution_count": 13,
     "metadata": {},
     "output_type": "execute_result"
    }
   ],
   "source": [
    "namesD= {'Piases','Población'}\n",
    "df = pd.read_csv('population.csv')\n",
    "df.sample(10)"
   ]
  },
  {
   "cell_type": "markdown",
   "id": "8385e20e",
   "metadata": {},
   "source": [
    "<h1><center>Medidas de Frecuencia</center></h1>"
   ]
  },
  {
   "cell_type": "markdown",
   "id": "fc2e8c3f",
   "metadata": {},
   "source": [
    "# Porcentaje"
   ]
  },
  {
   "cell_type": "code",
   "execution_count": 49,
   "id": "5287638c",
   "metadata": {},
   "outputs": [
    {
     "name": "stdout",
     "output_type": "stream",
     "text": [
      "                Unnamed: 0       Value  Percentage\n",
      "36                   China  1392730000    0.184502\n",
      "77                   India  1352617328    0.179188\n",
      "171                     US   326687501    0.043278\n",
      "78               Indonesia   267663435    0.035459\n",
      "127               Pakistan   212215030    0.028113\n",
      "..                     ...         ...         ...\n",
      "3                  Andorra       77006    0.000010\n",
      "49                Dominica       71625    0.000009\n",
      "139  Saint Kitts and Nevis       52441    0.000007\n",
      "112                 Monaco       38682    0.000005\n",
      "99           Liechtenstein       37910    0.000005\n",
      "\n",
      "[183 rows x 3 columns]\n"
     ]
    }
   ],
   "source": [
    "df1 = df.groupby('Unnamed: 0', as_index=False)['Value'].sum()\n",
    "df1['Percentage'] = df1['Value'] / df1['Value'].sum()\n",
    "df1 = df1.sort_values('Value', ascending=False)\n",
    "print (df1)"
   ]
  },
  {
   "cell_type": "markdown",
   "id": "ff2ef08f",
   "metadata": {},
   "source": [
    "Los datos que podemos visualizar en la parte del porcentaje nos indica la cantidad de ciudadanos que hay con respecto a su ciudad. Es decir se dividio entre la cantidad con respecto a su población para así evaluar cual es el índice de personas en cada país"
   ]
  },
  {
   "cell_type": "markdown",
   "id": "c83bacc8",
   "metadata": {},
   "source": [
    "# Count\n"
   ]
  },
  {
   "cell_type": "code",
   "execution_count": 52,
   "id": "51b80aef",
   "metadata": {},
   "outputs": [
    {
     "data": {
      "text/html": [
       "<div>\n",
       "<style scoped>\n",
       "    .dataframe tbody tr th:only-of-type {\n",
       "        vertical-align: middle;\n",
       "    }\n",
       "\n",
       "    .dataframe tbody tr th {\n",
       "        vertical-align: top;\n",
       "    }\n",
       "\n",
       "    .dataframe thead th {\n",
       "        text-align: right;\n",
       "    }\n",
       "</style>\n",
       "<table border=\"1\" class=\"dataframe\">\n",
       "  <thead>\n",
       "    <tr style=\"text-align: right;\">\n",
       "      <th></th>\n",
       "      <th>Unnamed: 0</th>\n",
       "      <th>Value</th>\n",
       "    </tr>\n",
       "  </thead>\n",
       "  <tbody>\n",
       "    <tr>\n",
       "      <th>0</th>\n",
       "      <td>Afghanistan</td>\n",
       "      <td>1</td>\n",
       "    </tr>\n",
       "    <tr>\n",
       "      <th>1</th>\n",
       "      <td>Albania</td>\n",
       "      <td>1</td>\n",
       "    </tr>\n",
       "    <tr>\n",
       "      <th>2</th>\n",
       "      <td>Algeria</td>\n",
       "      <td>1</td>\n",
       "    </tr>\n",
       "    <tr>\n",
       "      <th>3</th>\n",
       "      <td>Andorra</td>\n",
       "      <td>1</td>\n",
       "    </tr>\n",
       "    <tr>\n",
       "      <th>4</th>\n",
       "      <td>Angola</td>\n",
       "      <td>1</td>\n",
       "    </tr>\n",
       "    <tr>\n",
       "      <th>...</th>\n",
       "      <td>...</td>\n",
       "      <td>...</td>\n",
       "    </tr>\n",
       "    <tr>\n",
       "      <th>178</th>\n",
       "      <td>Vietnam</td>\n",
       "      <td>1</td>\n",
       "    </tr>\n",
       "    <tr>\n",
       "      <th>179</th>\n",
       "      <td>West Bank and Gaza</td>\n",
       "      <td>1</td>\n",
       "    </tr>\n",
       "    <tr>\n",
       "      <th>180</th>\n",
       "      <td>Yemen</td>\n",
       "      <td>1</td>\n",
       "    </tr>\n",
       "    <tr>\n",
       "      <th>181</th>\n",
       "      <td>Zambia</td>\n",
       "      <td>1</td>\n",
       "    </tr>\n",
       "    <tr>\n",
       "      <th>182</th>\n",
       "      <td>Zimbabwe</td>\n",
       "      <td>1</td>\n",
       "    </tr>\n",
       "  </tbody>\n",
       "</table>\n",
       "<p>183 rows × 2 columns</p>\n",
       "</div>"
      ],
      "text/plain": [
       "             Unnamed: 0  Value\n",
       "0           Afghanistan      1\n",
       "1               Albania      1\n",
       "2               Algeria      1\n",
       "3               Andorra      1\n",
       "4                Angola      1\n",
       "..                  ...    ...\n",
       "178             Vietnam      1\n",
       "179  West Bank and Gaza      1\n",
       "180               Yemen      1\n",
       "181              Zambia      1\n",
       "182            Zimbabwe      1\n",
       "\n",
       "[183 rows x 2 columns]"
      ]
     },
     "execution_count": 52,
     "metadata": {},
     "output_type": "execute_result"
    }
   ],
   "source": [
    "count = df.groupby(['Unnamed: 0']).agg({'Value': 'count'}).reset_index()\n",
    "count"
   ]
  },
  {
   "cell_type": "markdown",
   "id": "188861e4",
   "metadata": {},
   "source": [
    "<h1><center>Medidas de Tendencia Central</center></h1>"
   ]
  },
  {
   "cell_type": "markdown",
   "id": "cc01aaa2",
   "metadata": {},
   "source": [
    "# Media"
   ]
  },
  {
   "cell_type": "code",
   "execution_count": 57,
   "id": "ca59134b",
   "metadata": {},
   "outputs": [
    {
     "name": "stdout",
     "output_type": "stream",
     "text": [
      "La media de todas las paises corresponde: \n"
     ]
    },
    {
     "data": {
      "text/plain": [
       "41249226.8"
      ]
     },
     "execution_count": 57,
     "metadata": {},
     "output_type": "execute_result"
    }
   ],
   "source": [
    "def media(df_final):\n",
    "    '''Cálculo de la media'''\n",
    "    med = df_final['Value'].sum() / df_final['Value'].count()\n",
    "    print(\"La media de todas las prefecturas corresponde: \")\n",
    "    return round(med,1)\n",
    "media(df)"
   ]
  },
  {
   "cell_type": "markdown",
   "id": "c6698e8b",
   "metadata": {},
   "source": [
    "Una vez separada la columna sobre la que se trabajará, misma que corresponde a los valores obtenidos de la población existente de los 183 paises ingresados en el dataset, esto en el año 2018. Para el cálculo de la media, se realiza una función que permite usar docstrings para una explicación sencilla sobre lo que hace la línea de código. Dentro de la función se realiza un cálculo de la media, esto teniendo en cuenta que se tomaron únicamente los valores de población de cada país, siendo esta la columna \"Values\" sobre la que se aplicará el calculo de la media. Una vez calculada la media, se puede obtener el valor promedio cercano a 41249226.8 existente en el año 2018, esto siendo un cálculo global de la columna \"Values\"."
   ]
  },
  {
   "cell_type": "markdown",
   "id": "1e6c483e",
   "metadata": {},
   "source": [
    "# Moda"
   ]
  },
  {
   "cell_type": "code",
   "execution_count": 37,
   "id": "02427d10",
   "metadata": {},
   "outputs": [
    {
     "data": {
      "text/plain": [
       "7548608512"
      ]
     },
     "execution_count": 37,
     "metadata": {},
     "output_type": "execute_result"
    }
   ],
   "source": [
    "df.Value.mode().sum()"
   ]
  },
  {
   "cell_type": "markdown",
   "id": "9cabc477",
   "metadata": {},
   "source": [
    "Para el cálculo de la moda, se toma inicialmente la columna values que existe dentro del dataset \"population_2018\", mismo que contiene datos de la población de 183 países. Para el cálculo de la moda se crea una funcion que contendrá un docstring que explica de manera sencilla lo que se realiza en las líneas de código. Una vez creada la función, dentro de la misma se realiza el cálculo de la moda, para esto se usa la función \"mode()\", que toma el valor que más se repite dentro del dataset. El valor arrojado finalmente es 7548608512, siendo este el que más veces existe dentro de la columna Value de cada país."
   ]
  },
  {
   "cell_type": "markdown",
   "id": "af6dc79d",
   "metadata": {},
   "source": [
    "# Mediana\n"
   ]
  },
  {
   "cell_type": "code",
   "execution_count": 48,
   "id": "9ca7ccae",
   "metadata": {},
   "outputs": [
    {
     "name": "stdout",
     "output_type": "stream",
     "text": [
      "9630959\n"
     ]
    }
   ],
   "source": [
    "def median(l):\n",
    "    \"\"\"\n",
    "      Cálculo de la mediana sobre la tabla Values.\n",
    "    \"\"\"\n",
    "    mediana_resul = df.sort_values('Value',ascending=True)\n",
    "    half = len(l) // 2\n",
    "\n",
    "    if not len(l) % 2:\n",
    "        return (l[half - 1] + l[half]) / 2\n",
    "    return l[half]\n",
    "\n",
    "print(median(df['Value']))"
   ]
  },
  {
   "cell_type": "markdown",
   "id": "d48170f4",
   "metadata": {},
   "source": [
    "Una vez tomados los valores correspondientes a la columna value, misma que procede del dataset \"population_2018\" que contiene valores de población de 183 países. Para el cálculo de la mediana, inicialmente se crea una función que contendrá un docstring, esto para que sea una descripción sencilla sobre lo que realizará la línea de código. Para el cálculo de la mediana, se toma los valores en un dato mediana_resul, este siendo ordenado mediante sort, una vez ordenado se toma el valor medio dividiendo los datos a la mitad, para finalmente realizar el cálculo del dataset con su valor medio menos uno, sumado este al valor medio del dataset y dividiendo el resultado de estos sobre dos. Una vez calculada la media, se impirme el resultado, siendo este 9630959, dando a entender que este es el valor medio de la población entre los 183 países."
   ]
  },
  {
   "cell_type": "markdown",
   "id": "eed7c338",
   "metadata": {},
   "source": [
    "<h1><center>Medidas de Variación</center></h1>"
   ]
  },
  {
   "cell_type": "markdown",
   "id": "05f32347",
   "metadata": {},
   "source": [
    "## Varianza"
   ]
  },
  {
   "cell_type": "code",
   "execution_count": 33,
   "id": "2224434a",
   "metadata": {},
   "outputs": [
    {
     "name": "stdout",
     "output_type": "stream",
     "text": [
      "Varianza Resultado: 2.178806690174346e+16\n"
     ]
    }
   ],
   "source": [
    "print(\"Varianza Resultado:\",round(df[\"Value\"].var(ddof=0),1))"
   ]
  },
  {
   "cell_type": "markdown",
   "id": "1578dc2d",
   "metadata": {},
   "source": [
    "El resultado describe la varianza calculada del conjunto de datos de la columna Value. Obtenemos una medida absoluta de la dispersión de los valores de la variable Value respecto de su media. Con la ayuda de las librería y pandas se logró hacer el cálculo usando el método var. En sí es representar la variabilidad de nuestro conjunto de datos respecto de la media aritmética de los mismo"
   ]
  },
  {
   "cell_type": "markdown",
   "id": "87deacde",
   "metadata": {},
   "source": [
    "# Desviación Típica"
   ]
  },
  {
   "cell_type": "code",
   "execution_count": 30,
   "id": "4c407b02",
   "metadata": {},
   "outputs": [
    {
     "name": "stdout",
     "output_type": "stream",
     "text": [
      "Desviación Tipica Resultado:  147607814.50093848\n"
     ]
    }
   ],
   "source": [
    "print(\"Desviación Tipica Resultado: \",df[\"Value\"].std(ddof=0))"
   ]
  },
  {
   "cell_type": "markdown",
   "id": "94aa5abe",
   "metadata": {},
   "source": [
    "El resultado describe la desviación típica calculada del conjunto de datos de la columna Value. Obtenemos otra medida que ofrece información de la dispersión respecto a la media. Con la ayuda de las librería y pandas se logró hacer el cálculo usando el método std. En sí es representar la desviación típica es la raíz cuadrada de la varianza."
   ]
  },
  {
   "cell_type": "markdown",
   "id": "3e084b79",
   "metadata": {},
   "source": [
    "<h1><center>Medidas de Posición</center></h1>"
   ]
  },
  {
   "cell_type": "markdown",
   "id": "b54b39fc",
   "metadata": {},
   "source": [
    "# Quantiles"
   ]
  },
  {
   "cell_type": "code",
   "execution_count": 63,
   "id": "090bad5b",
   "metadata": {},
   "outputs": [
    {
     "name": "stdout",
     "output_type": "stream",
     "text": [
      "Min:  37910\n",
      "Q1:  2743863.0\n",
      "Q2:  9630959.0\n",
      "Q3:  29631535.0\n",
      "Max:  1392730000\n"
     ]
    }
   ],
   "source": [
    "'''Quantiles'''\n",
    "print(\"Min: \", np.quantile(df['Value'],0))\n",
    "print(\"Q1: \", np.quantile(df['Value'],0.25))\n",
    "print(\"Q2: \", np.quantile(df['Value'],0.50))\n",
    "print(\"Q3: \", np.quantile(df['Value'],0.75))\n",
    "print(\"Max: \", np.quantile(df['Value'],1))"
   ]
  },
  {
   "cell_type": "markdown",
   "id": "ab3b555a",
   "metadata": {},
   "source": [
    "Consideranod la estadistica obtenida de los resultados se ha considerado "
   ]
  },
  {
   "cell_type": "code",
   "execution_count": 55,
   "id": "9c8f2b61",
   "metadata": {},
   "outputs": [
    {
     "name": "stdout",
     "output_type": "stream",
     "text": [
      "          Value  Quantile_rank\n",
      "0    1392730000              3\n",
      "1    1352617328              3\n",
      "2     326687501              3\n",
      "3     267663435              3\n",
      "4     212215030              3\n",
      "..          ...            ...\n",
      "178       77006              0\n",
      "179       71625              0\n",
      "180       52441              0\n",
      "181       38682              0\n",
      "182       37910              0\n",
      "\n",
      "[183 rows x 2 columns]\n"
     ]
    }
   ],
   "source": [
    "'''Quantiles'''\n",
    "df = pd.DataFrame(df, columns = ['Value']) \n",
    "  \n",
    "df['Quantile_rank'] = pd.qcut(df['Value'], 4, \n",
    "                               labels = False)   \n",
    "print(df)"
   ]
  }
 ],
 "metadata": {
  "kernelspec": {
   "display_name": "Python 3 (ipykernel)",
   "language": "python",
   "name": "python3"
  },
  "language_info": {
   "codemirror_mode": {
    "name": "ipython",
    "version": 3
   },
   "file_extension": ".py",
   "mimetype": "text/x-python",
   "name": "python",
   "nbconvert_exporter": "python",
   "pygments_lexer": "ipython3",
   "version": "3.9.12"
  }
 },
 "nbformat": 4,
 "nbformat_minor": 5
}
